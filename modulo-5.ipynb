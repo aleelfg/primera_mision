{
 "cells": [
  {
   "cell_type": "markdown",
   "metadata": {},
   "source": [
    "# Utilizar operadores aritméticos"
   ]
  },
  {
   "cell_type": "code",
   "execution_count": 7,
   "metadata": {},
   "outputs": [
    {
     "name": "stdout",
     "output_type": "stream",
     "text": [
      "Distancia en km:  628949330\n",
      "Distancia en millas:  390577533.93\n"
     ]
    }
   ],
   "source": [
    "distancia_tierra = 149597870\n",
    "distancia_jupiter = 778547200\n",
    "\n",
    "# Calcular la distancia entre planetas\n",
    "\n",
    "distancia_km = distancia_jupiter - distancia_tierra\n",
    "print(\"Distancia en km: \", distancia_km)\n",
    "\n",
    "distancia_mi = distancia_km * 0.621\n",
    "print(\"Distancia en millas: \", distancia_mi)\n"
   ]
  },
  {
   "cell_type": "markdown",
   "metadata": {},
   "source": [
    "### Convierte cadenas en números y usa valores absolutos"
   ]
  },
  {
   "cell_type": "code",
   "execution_count": 6,
   "metadata": {},
   "outputs": [
    {
     "name": "stdout",
     "output_type": "stream",
     "text": [
      "Distancia en km:  4345500000\n",
      "Distancia en millas:  2698555500.0\n"
     ]
    }
   ],
   "source": [
    "planeta_uno = input('Introduzca la distancia del sol para el primer planeta en km')\n",
    "planeta_dos = input('Introduzca la distancia desde el sol para el segundo planeta en km')\n",
    "\n",
    "# Convierte las cadenas de ambos planetas a números enteros\n",
    "planeta_uno = int(planeta_uno)\n",
    "planeta_dos = int(planeta_dos)\n",
    "\n",
    "# Realizar el cálculo y determinar el valor absoluto\n",
    "distancia_km = planeta_dos - planeta_uno\n",
    "print(\"Distancia en km: \",distancia_km)\n",
    "\n",
    "# Convertir de km a Millas\n",
    "distancia_mi = distancia_km * 0.621\n",
    "print(\"Distancia en millas: \", abs(distancia_mi))"
   ]
  }
 ],
 "metadata": {
  "interpreter": {
   "hash": "8de793d92ae160bbcdf79dfbb91963cc38880426d018733f683bda5b906f5d56"
  },
  "kernelspec": {
   "display_name": "Python 3.9.5 64-bit",
   "language": "python",
   "name": "python3"
  },
  "language_info": {
   "codemirror_mode": {
    "name": "ipython",
    "version": 3
   },
   "file_extension": ".py",
   "mimetype": "text/x-python",
   "name": "python",
   "nbconvert_exporter": "python",
   "pygments_lexer": "ipython3",
   "version": "3.9.5"
  },
  "orig_nbformat": 4
 },
 "nbformat": 4,
 "nbformat_minor": 2
}
