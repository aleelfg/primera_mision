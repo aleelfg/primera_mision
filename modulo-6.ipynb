{
 "cells": [
  {
   "cell_type": "markdown",
   "metadata": {},
   "source": [
    "## Crear y usar listas de Python"
   ]
  },
  {
   "cell_type": "code",
   "execution_count": 4,
   "metadata": {},
   "outputs": [
    {
     "name": "stdout",
     "output_type": "stream",
     "text": [
      "['tierra', 'jupiter', 'saturno', 'urano', 'marte', 'mercurio', 'venus', 'neptuno']\n",
      "pluton\n"
     ]
    }
   ],
   "source": [
    "# Creamos la lista planets y la mostramos\n",
    "planets = ['tierra', 'jupiter', 'saturno', 'urano', 'marte', 'mercurio', 'venus', 'neptuno']\n",
    "\n",
    "print(planets)\n",
    "\n",
    "# Agregamos a plutón y mostramos el último elemento\n",
    "planets.append('pluton')\n",
    "num = len(planets)\n",
    "print(planets[num - 1])"
   ]
  },
  {
   "cell_type": "markdown",
   "metadata": {},
   "source": [
    "## Trabajando con datos de una lista"
   ]
  },
  {
   "cell_type": "code",
   "execution_count": 10,
   "metadata": {},
   "outputs": [
    {
     "name": "stdout",
     "output_type": "stream",
     "text": [
      "Estos son los planetas mas cerca que Marte\n",
      "['Mercurio', 'Venus', 'Tierra']\n",
      "Aqui estan en los plantas mas lejanos que: Marte\n",
      "['Jupiter', 'Saturno', 'Neptuno']\n"
     ]
    }
   ],
   "source": [
    "# Lista de planetas\n",
    "planets = ['Mercurio', 'Venus', 'Tierra', 'Marte', 'Jupiter', 'Saturno', 'Neptuno']\n",
    "\n",
    "# Solicitamos el nombre de un planeta\n",
    "planeta = input('Introduzca el nombre del planeta, empezando con letra mayuscula: ')\n",
    "\n",
    "# Busca el planeta en la lista\n",
    "planeta_index = planets.index(planeta)\n",
    "print('Estos son los planetas mas cerca que ' + planeta)\n",
    "print(planets[0:planeta_index])\n",
    "\n",
    "# Muestra los planetas más lejanos al sol\n",
    "print('Aqui estan en los plantas mas lejanos que: ' + planeta)\n",
    "print(planets[planeta_index + 1:])"
   ]
  }
 ],
 "metadata": {
  "interpreter": {
   "hash": "8de793d92ae160bbcdf79dfbb91963cc38880426d018733f683bda5b906f5d56"
  },
  "kernelspec": {
   "display_name": "Python 3.9.5 64-bit",
   "language": "python",
   "name": "python3"
  },
  "language_info": {
   "codemirror_mode": {
    "name": "ipython",
    "version": 3
   },
   "file_extension": ".py",
   "mimetype": "text/x-python",
   "name": "python",
   "nbconvert_exporter": "python",
   "pygments_lexer": "ipython3",
   "version": "3.9.5"
  },
  "orig_nbformat": 4
 },
 "nbformat": 4,
 "nbformat_minor": 2
}
